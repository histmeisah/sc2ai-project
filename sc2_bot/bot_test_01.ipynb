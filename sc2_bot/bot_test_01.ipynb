{
 "cells": [
  {
   "cell_type": "code",
   "execution_count": 7,
   "metadata": {
    "collapsed": true
   },
   "outputs": [],
   "source": [
    "# pip install --upgrade burnysc2"
   ]
  },
  {
   "cell_type": "code",
   "execution_count": 7,
   "outputs": [],
   "source": [],
   "metadata": {
    "collapsed": false
   }
  },
  {
   "cell_type": "code",
   "execution_count": 8,
   "outputs": [
    {
     "ename": "ModuleNotFoundError",
     "evalue": "No module named 'sc2'",
     "output_type": "error",
     "traceback": [
      "\u001B[1;31m---------------------------------------------------------------------------\u001B[0m",
      "\u001B[1;31mModuleNotFoundError\u001B[0m                       Traceback (most recent call last)",
      "Cell \u001B[1;32mIn [8], line 1\u001B[0m\n\u001B[1;32m----> 1\u001B[0m \u001B[38;5;28;01mfrom\u001B[39;00m \u001B[38;5;21;01msc2\u001B[39;00m \u001B[38;5;28;01mimport\u001B[39;00m maps\n\u001B[0;32m      2\u001B[0m \u001B[38;5;28;01mfrom\u001B[39;00m \u001B[38;5;21;01msc2\u001B[39;00m\u001B[38;5;21;01m.\u001B[39;00m\u001B[38;5;21;01mplayer\u001B[39;00m \u001B[38;5;28;01mimport\u001B[39;00m Bot, Computer\n\u001B[0;32m      3\u001B[0m \u001B[38;5;28;01mfrom\u001B[39;00m \u001B[38;5;21;01msc2\u001B[39;00m\u001B[38;5;21;01m.\u001B[39;00m\u001B[38;5;21;01mmain\u001B[39;00m \u001B[38;5;28;01mimport\u001B[39;00m run_game\n",
      "\u001B[1;31mModuleNotFoundError\u001B[0m: No module named 'sc2'"
     ]
    }
   ],
   "source": [
    "from sc2 import maps\n",
    "from sc2.player import Bot, Computer\n",
    "from sc2.main import run_game\n",
    "from sc2.data import Race, Difficulty\n",
    "from sc2.bot_ai import BotAI\n",
    "from sc2.ids.unit_typeid import UnitTypeId\n",
    "import random\n",
    "import nest_asyncio\n",
    "nest_asyncio.apply()\n",
    "class WorkerRushBot(BotAI):\n",
    "    async def on_step(self, iteration: int):\n",
    "        if self.townhalls:\n",
    "            commandcenter = self.townhalls.random\n",
    "            print(f'{iteration},minerals:{self.minerals},vespene:{self.vespene},supply_used:{self.supply_used},supply_cap:{self.supply_cap}'\n",
    "                  f',works:{self.workers.amount},idle_workers:{self.idle_worker_count},'\n",
    "                  f'command_center:{self.structures(UnitTypeId.COMMANDCENTER).amount},'\n",
    "                  f'scv:{self.units(UnitTypeId.SCV).amount}')\n",
    "            await self.distribute_workers()\n",
    "            # 生产工人\n",
    "            if self.can_afford(UnitTypeId.SCV) and commandcenter.is_idle :\n",
    "                commandcenter.train(UnitTypeId.SCV)\n",
    "            elif not self.structures(UnitTypeId.SUPPLYDEPOT) and self.already_pending(UnitTypeId.SUPPLYDEPOT)==0:\n",
    "                if self.can_afford(UnitTypeId.SUPPLYDEPOT):\n",
    "\n",
    "                    await self.build(UnitTypeId.SUPPLYDEPOT,near=commandcenter)\n",
    "            elif self.structures(UnitTypeId.SUPPLYDEPOT).amount<5:\n",
    "                if self.can_afford(UnitTypeId.SUPPLYDEPOT):\n",
    "                    target_supplydepot = self.structures(UnitTypeId.SUPPLYDEPOT).closest_to(self.enemy_start_locations[0])\n",
    "                    pos = target_supplydepot.towards(self.enemy_start_locations[0],random.randrange(8,15))\n",
    "                    await  self.build(UnitTypeId.SUPPLYDEPOT,near=pos)\n",
    "\n",
    "\n",
    "            # 建造补给建筑\n",
    "\n",
    "\n",
    "\n",
    "        else:\n",
    "            if self.can_afford(UnitTypeId.COMMANDCENTER):\n",
    "                await self.expand_now()\n",
    "\n",
    "run_game(maps.get(\"FrostLE\"), [\n",
    "    Bot(Race.Terran, WorkerRushBot()),\n",
    "    Computer(Race.Zerg, Difficulty.Medium)\n",
    "], realtime=False)"
   ],
   "metadata": {
    "collapsed": false
   }
  }
 ],
 "metadata": {
  "kernelspec": {
   "display_name": "Python 3",
   "language": "python",
   "name": "python3"
  },
  "language_info": {
   "codemirror_mode": {
    "name": "ipython",
    "version": 2
   },
   "file_extension": ".py",
   "mimetype": "text/x-python",
   "name": "python",
   "nbconvert_exporter": "python",
   "pygments_lexer": "ipython2",
   "version": "2.7.6"
  }
 },
 "nbformat": 4,
 "nbformat_minor": 0
}
