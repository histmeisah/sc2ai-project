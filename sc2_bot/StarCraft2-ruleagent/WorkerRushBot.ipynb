{
 "cells": [
  {
   "cell_type": "code",
   "execution_count": 11,
   "metadata": {
    "pycharm": {
     "name": "#%%\n"
    }
   },
   "outputs": [],
   "source": [
    "from sc2 import maps\n",
    "from sc2.player import Bot, Computer\n",
    "from sc2.main import run_game\n",
    "from sc2.data import Race, Difficulty\n",
    "from sc2.bot_ai import BotAI\n",
    "from sc2.ids.unit_typeid import UnitTypeId\n",
    "import random\n",
    "import time\n",
    "import pickle\n",
    "import numpy as np\n",
    "import math\n",
    "import cv2"
   ]
  },
  {
   "cell_type": "code",
   "execution_count": 12,
   "metadata": {
    "pycharm": {
     "name": "#%%\n"
    }
   },
   "outputs": [],
   "source": [
    "# from sc2.game_state import GameState\n"
   ]
  },
  {
   "cell_type": "code",
   "execution_count": 13,
   "metadata": {
    "pycharm": {
     "name": "#%%\n"
    }
   },
   "outputs": [],
   "source": [
    "import os\n",
    "os.environ['KMP_DUPLICATE_LIB_OK']='True'\n",
    "import nest_asyncio\n",
    "nest_asyncio.apply()"
   ]
  },
  {
   "cell_type": "code",
   "execution_count": 14,
   "metadata": {
    "pycharm": {
     "name": "#%%\n"
    }
   },
   "outputs": [],
   "source": [
    "class WorkerRushBot(BotAI):\n",
    "    async def on_step(self, iteration: int):        \n",
    "        while True:\n",
    "            try:\n",
    "                with open('transaction.pkl','rb') as f:\n",
    "                    transaction = pickle.load(f)\n",
    "                if transaction['action'] is not None:\n",
    "                    break\n",
    "                time.sleep(0.1)\n",
    "            except Exception as e:\n",
    "                time.sleep(0.1)\n",
    "                pass\n",
    "        \n",
    "        action = transaction['action']\n",
    "        print(f'迭代次数：{iteration}')\n",
    "        await self.distribute_workers()\n",
    "        \n",
    "        #0:扩中枢、训练探机、吸收间、水晶塔\n",
    "        if action == 0:\n",
    "            print(f'action={action}')\n",
    "            try:\n",
    "                have_builded = False\n",
    "                if self.supply_left < 4:\n",
    "                    if self.can_afford(UnitTypeId.PYLON) and self.already_pending(UnitTypeId.PYLON)==0:\n",
    "                            await self.build(UnitTypeId.PYLON,near=random.choice(self.townhalls))\n",
    "                            have_builded = True\n",
    "                            print('建设水晶塔')\n",
    "\n",
    "                if not have_builded:\n",
    "                    for nexus in self.townhalls:\n",
    "                        #探机\n",
    "                        workers_count = len(self.workers.closer_than(10,nexus))\n",
    "                        if workers_count < 22:\n",
    "                            if self.can_afford(UnitTypeId.PROBE) and nexus.is_idle:\n",
    "                                nexus.train(UnitTypeId.PROBE)\n",
    "                                have_builded = True\n",
    "                                print('训练探机')\n",
    "                        #吸收间\n",
    "                        for vespene in self.vespene_geyser.closer_than(10,nexus):\n",
    "                            if self.can_afford(UnitTypeId.ASSIMILATOR) and not self.structures(UnitTypeId.ASSIMILATOR).closer_than(2,vespene).exists:\n",
    "                                await self.build(UnitTypeId.ASSIMILATOR,vespene)  \n",
    "                                have_builded = True\n",
    "                                print('建设吸收间')\n",
    "\n",
    "                if not have_builded:\n",
    "                    if self.can_afford(UnitTypeId.NEXUS) and self.already_pending(UnitTypeId.NEXUS)==0:\n",
    "                        await self.expand_now()\n",
    "                        print('扩建中枢')\n",
    "            except Exception as e:\n",
    "                print(e)\n",
    "            \n",
    "        #1:传送门、控制核心、星门\n",
    "        elif action == 1:\n",
    "            print(f'action={action}')\n",
    "            try:\n",
    "                for nexus in self.townhalls:\n",
    "                    #传送门\n",
    "                    if not self.structures(UnitTypeId.GATEWAY).closer_than(10,nexus).exists:\n",
    "                        if self.can_afford(UnitTypeId.GATEWAY) and self.already_pending(UnitTypeId.GATEWAY)==0:\n",
    "                            await self.build(UnitTypeId.GATEWAY,near=nexus)\n",
    "                            print('建设传送门')\n",
    "\n",
    "                    #控制核心\n",
    "                    if not self.structures(UnitTypeId.CYBERNETICSCORE).closer_than(10,nexus).exists:\n",
    "                        if self.can_afford(UnitTypeId.CYBERNETICSCORE) and self.already_pending(UnitTypeId.CYBERNETICSCORE)==0:\n",
    "                            await self.build(UnitTypeId.CYBERNETICSCORE,near=nexus)\n",
    "                            print('建设控制核心')\n",
    "\n",
    "                    #星门\n",
    "                    if not self.structures(UnitTypeId.STARGATE).closer_than(10,nexus).exists:\n",
    "                        if self.can_afford(UnitTypeId.STARGATE) and self.already_pending(UnitTypeId.STARGATE)==0:\n",
    "                            await self.build(UnitTypeId.STARGATE,near=nexus)\n",
    "                            print('建设星门')\n",
    "            except Exception as e:\n",
    "                print(e)\n",
    "        \n",
    "        #2:虚空辉光舰\n",
    "        elif action == 2:\n",
    "            print(f'action={action}')\n",
    "            try:\n",
    "                for sg in self.structures(UnitTypeId.STARGATE).ready.idle:\n",
    "                    if self.can_afford(UnitTypeId.VOIDRAY):\n",
    "                        sg.train(UnitTypeId.VOIDRAY)\n",
    "                        print('训练虚空辉光舰')\n",
    "            except Exception as e:\n",
    "                print(e)\n",
    "        \n",
    "        #3:侦查\n",
    "        elif action == 3:\n",
    "            print(f'action={action}')\n",
    "            try:\n",
    "                self.last_sent\n",
    "            except:\n",
    "                self.last_sent = 0\n",
    "            if (iteration - self.last_sent) > 200:\n",
    "                try:\n",
    "                    if self.units(UnitTypeId.PROBE).idle.exists:\n",
    "                        probe = random.choice(self.units(UnitTypeId.PROBE).idle)\n",
    "                    else:\n",
    "                        probe = random.choice(self.units(UnitTypeId.PROBE))\n",
    "                    probe.attack(self.enemy_start_locations[0])\n",
    "                    self.last_sent = iteration\n",
    "                    print('侦查')\n",
    "                except:\n",
    "                    pass\n",
    "        \n",
    "        #4:进攻\n",
    "        elif action == 4:\n",
    "            print(f'action={action}')\n",
    "            try:\n",
    "                for voidray in self.units(UnitTypeId.VOIDRAY).idle:\n",
    "                    if self.enemy_units.closer_than(10,voidray):\n",
    "                        voidray.attack(random.choice(self.enemy_units.closer_than(10,voidray)))\n",
    "                    elif self.enemy_structures.closer_than(10,voidray):\n",
    "                        voidray.attack(random.choice(self.enemy_structures.closer_than(10,voidray)))\n",
    "                    elif self.enemy_units:\n",
    "                        voidray.attack(random.choice(self.enemy_units))\n",
    "                    elif self.enemy_structures:\n",
    "                        voidray.attack(random.choice(self.enemy_structures))\n",
    "                    elif self.enemy_start_locations:\n",
    "                        voidray.attack(self.enemy_start_locations[0])\n",
    "                    print('星空辉光舰进攻')\n",
    "            except Exception as e:\n",
    "                print(e)\n",
    "        \n",
    "        #5:撤退\n",
    "        elif action == 5:\n",
    "            print(f'action={action}')\n",
    "            try:\n",
    "                if self.units(UnitTypeId.VOIDRAY).amount > 0:\n",
    "                    for voidray in self.units(UnitTypeId.VOIDRAY):\n",
    "                        voidray.attack(self.start_location)\n",
    "                    print('撤退')\n",
    "            except Exception as e:\n",
    "                print(e)            \n",
    "        \n",
    "        #画图\n",
    "        map = np.zeros((self.game_info.map_size[0],self.game_info.map_size[1],3),dtype = np.uint8)\n",
    "        \n",
    "        #1:绘制矿产资源\n",
    "        for mineral in self.mineral_field:\n",
    "            pos = mineral.position\n",
    "            c = [175,255,255]\n",
    "            fraction = mineral.mineral_contents/1800\n",
    "            if mineral.is_visible:\n",
    "                map[math.ceil(pos.y)][math.ceil(pos.x)] = [int(fraction*i) for i in c]\n",
    "            else:\n",
    "                map[math.ceil(pos.y)][math.ceil(pos.x)] = [50,50,50]\n",
    "        \n",
    "        #2:绘制瓦斯资源\n",
    "        for vespene in self.vespene_geyser:\n",
    "            pos = vespene.position\n",
    "            c = [255,175,255]\n",
    "            fraction = vespene.vespene_contents/2250\n",
    "            if vespene.is_visible:\n",
    "                map[math.ceil(pos.y)][math.ceil(pos.x)] = [int(fraction*i) for i in c]\n",
    "            else:\n",
    "                map[math.ceil(pos.y)][math.ceil(pos.x)] = [50,50,50]\n",
    "                \n",
    "        #3:绘制基础设施\n",
    "        for structure in self.structures:\n",
    "            pos = structure.position\n",
    "            if structure.type_id == UnitTypeId.NEXUS:\n",
    "                c = [255,255,175]\n",
    "            else:\n",
    "                c = [0,255,175]\n",
    "            fraction = structure.health_percentage\n",
    "            map[math.ceil(pos.y)][math.ceil(pos.x)] = [int(fraction*i) for i in c]\n",
    "            \n",
    "        #4:绘制武器装备\n",
    "        for unit in self.units:\n",
    "            pos = unit.position\n",
    "            if unit.type_id == UnitTypeId.VOIDRAY:\n",
    "                c = [255,0,0]\n",
    "            else:\n",
    "                c = [175,255,0]\n",
    "            fraction = unit.health_percentage\n",
    "            map[math.ceil(pos.y)][math.ceil(pos.x)] = [int(fraction*i) for i in c]\n",
    "            \n",
    "        #5:绘制敌人的起始位置画面\n",
    "        for enermy_location in self.enemy_start_locations:\n",
    "            pos = enermy_location.position\n",
    "            c = [0,0,255]\n",
    "            map[math.ceil(pos.y)][math.ceil(pos.x)] = c\n",
    "            \n",
    "        #6:绘制敌人的基础设施\n",
    "        for structure in self.enemy_structures:\n",
    "            pos = structure.position\n",
    "            c = [0,100,255]\n",
    "            fraction = structure.health_percentage\n",
    "            map[math.ceil(pos.y)][math.ceil(pos.x)] = [int(fraction*i) for i in c]\n",
    "            \n",
    "        #7:绘制敌人的武器装备\n",
    "        for unit in self.enemy_units:\n",
    "            pos = unit.position\n",
    "            c = [100,0,255]\n",
    "            fraction = unit.health_percentage\n",
    "            map[math.ceil(pos.y)][math.ceil(pos.x)] = [int(fraction*i) for i in c]\n",
    "            \n",
    "        #计算奖励值\n",
    "        reward = 0\n",
    "        try:\n",
    "            for voidray in self.units(UnitTypeId.VOIDRAY):\n",
    "                if voidray.is_attacking and voidray.target_in_range:\n",
    "                    if self.enemy_structures.closer_than(8,voidray) or self.enemy_units.closer_than(8,voidray):\n",
    "                        reward += 0.015\n",
    "        except Exception as e:\n",
    "            print(f'reward error:{e}')\n",
    "            reward = 0\n",
    "        \n",
    "        if iteration%10 == 0:\n",
    "            print(f'iteration:{iteration},RW:{reward},VR:{self.units(UnitTypeId.VOIDRAY).amount}')\n",
    "            \n",
    "  \n",
    "        cv2.imshow('map',cv2.flip(cv2.resize(map,None,fx=4,fy=4,interpolation=cv2.INTER_NEAREST),0))\n",
    "        cv2.waitKey(1)\n",
    "        \n",
    "        \n",
    "        transaction = {'observation':map,'reward':reward,'action':None,'done':False}\n",
    "        with open('transaction.pkl','wb') as f:\n",
    "            pickle.dump(transaction,f)"
   ]
  },
  {
   "cell_type": "code",
   "execution_count": null,
   "metadata": {
    "pycharm": {
     "name": "#%%\n",
     "is_executing": true
    }
   },
   "outputs": [
    {
     "name": "stdout",
     "output_type": "stream",
     "text": [
      "2022-09-13 08:30:45.707 | INFO     | sc2.protocol:_execute:72 - Client status changed to Status.launched (was None)\n",
      "2022-09-13 08:30:45.708 | INFO     | sc2.controller:create_game:37 - Creating new game\n",
      "2022-09-13 08:30:45.709 | INFO     | sc2.controller:create_game:38 - Map:     AscensiontoAiurLE\n",
      "2022-09-13 08:30:45.711 | INFO     | sc2.controller:create_game:39 - Players: Bot WorkerRushBot(Protoss), Computer Hard(Zerg, RandomBuild)\n",
      "2022-09-13 08:30:45.715 | INFO     | sc2.protocol:_execute:72 - Client status changed to Status.init_game (was Status.launched)\n",
      "2022-09-13 08:30:52.074 | INFO     | sc2.protocol:_execute:72 - Client status changed to Status.in_game (was None)\n",
      "2022-09-13 08:30:52.075 | INFO     | sc2.main:_play_game:221 - Player 1 - Bot WorkerRushBot(Protoss)\n",
      "2022-09-13 08:32:38.284 | INFO     | sc2.sc2process:kill_all:33 - kill_switch: Process cleanup for 1 processes\n",
      "2022-09-13 08:32:42.136 | INFO     | sc2.sc2process:kill_all:33 - kill_switch: Process cleanup for 1 processes\n",
      "2022-09-13 08:32:50.569 | INFO     | sc2.sc2process:kill_all:33 - kill_switch: Process cleanup for 1 processes\n",
      "2022-09-13 08:32:50.789 | INFO     | sc2.sc2process:kill_all:33 - kill_switch: Process cleanup for 1 processes\n",
      "2022-09-13 08:32:51.234 | INFO     | sc2.sc2process:kill_all:33 - kill_switch: Process cleanup for 1 processes\n",
      "2022-09-13 08:33:52.812 | INFO     | sc2.sc2process:kill_all:33 - kill_switch: Process cleanup for 1 processes\n",
      "2022-09-13 08:33:52.921 | INFO     | sc2.sc2process:kill_all:33 - kill_switch: Process cleanup for 1 processes\n",
      "2022-09-13 08:33:53.142 | INFO     | sc2.sc2process:kill_all:33 - kill_switch: Process cleanup for 1 processes\n",
      "2022-09-13 08:33:58.525 | INFO     | sc2.sc2process:kill_all:33 - kill_switch: Process cleanup for 1 processes\n",
      "2022-09-13 08:33:59.008 | INFO     | sc2.sc2process:kill_all:33 - kill_switch: Process cleanup for 1 processes\n"
     ]
    }
   ],
   "source": [
    "result = run_game(maps.get('AscensiontoAiurLE'), [\n",
    "    Bot(Race.Protoss, WorkerRushBot()),\n",
    "    Computer(Race.Zerg, Difficulty.Hard)\n",
    "], realtime=True)"
   ]
  },
  {
   "cell_type": "code",
   "execution_count": null,
   "metadata": {
    "pycharm": {
     "name": "#%%\n",
     "is_executing": true
    }
   },
   "outputs": [],
   "source": [
    "with open('result.txt','a') as f:\n",
    "    f.write(f'{result}\\n')\n",
    "    \n",
    "if str(result) == 'Result.Victory':\n",
    "    print('Victory!')\n",
    "    rwd = 500\n",
    "else:\n",
    "    rwd = -500\n",
    "    \n",
    "map = np.zeros((224,224,3),dtype = np.uint8)\n",
    "transaction = {'observation':map,'reward':rwd,'action':None,'done':True}\n",
    "with open('transaction.pkl','wb') as f:\n",
    "    pickle.dump(transaction,f)\n",
    "    \n",
    "cv2.destroyAllWindows()\n",
    "cv2.waitKey(1)\n",
    "time.sleep(1)"
   ]
  },
  {
   "cell_type": "code",
   "execution_count": null,
   "metadata": {
    "pycharm": {
     "name": "#%%\n",
     "is_executing": true
    }
   },
   "outputs": [],
   "source": []
  },
  {
   "cell_type": "code",
   "execution_count": null,
   "metadata": {
    "pycharm": {
     "name": "#%%\n",
     "is_executing": true
    }
   },
   "outputs": [],
   "source": []
  },
  {
   "cell_type": "code",
   "execution_count": null,
   "metadata": {
    "pycharm": {
     "name": "#%%\n",
     "is_executing": true
    }
   },
   "outputs": [],
   "source": []
  },
  {
   "cell_type": "code",
   "execution_count": null,
   "metadata": {
    "pycharm": {
     "name": "#%%\n",
     "is_executing": true
    }
   },
   "outputs": [],
   "source": []
  },
  {
   "cell_type": "code",
   "execution_count": null,
   "metadata": {
    "pycharm": {
     "name": "#%%\n",
     "is_executing": true
    }
   },
   "outputs": [],
   "source": []
  },
  {
   "cell_type": "code",
   "execution_count": null,
   "metadata": {
    "pycharm": {
     "name": "#%%\n",
     "is_executing": true
    }
   },
   "outputs": [],
   "source": []
  }
 ],
 "metadata": {
  "kernelspec": {
   "display_name": "Python 3",
   "language": "python",
   "name": "python3"
  },
  "language_info": {
   "codemirror_mode": {
    "name": "ipython",
    "version": 3
   },
   "file_extension": ".py",
   "mimetype": "text/x-python",
   "name": "python",
   "nbconvert_exporter": "python",
   "pygments_lexer": "ipython3",
   "version": "3.8.5"
  }
 },
 "nbformat": 4,
 "nbformat_minor": 4
}